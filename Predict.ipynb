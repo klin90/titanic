{
 "cells": [
  {
   "cell_type": "markdown",
   "metadata": {},
   "source": [
    "## Data Cleaning and Preprocessing\n",
    "\n",
    "We import the original `train.csv` and `test.csv` files and use `PassengerID` as the index column.\n",
    "\n",
    "The `clean_data` function then performs the following:\n",
    "\n",
    "* Drops the `Name`, `Ticket` and `Cabin` columns which we currently are not using.\n",
    "* Modifies `Fare` column to indicate difference from the median fare paid by class.\n",
    "* Imputes median values (based on sex and passenger class) to null values in the `Age` column.\n",
    "* Family size feature created by adding values in the `SibSp` and `Parch` columns.\n",
    "\n",
    "The cleaned data is saved to `cl_train.csv` and `cl_test.csv`.\n",
    "\n",
    "#### History\n",
    "* R1: `Fare` calculation changed to use median fare instead of mean fare. Family size feature added."
   ]
  },
  {
   "cell_type": "code",
   "execution_count": 1,
   "metadata": {
    "collapsed": true
   },
   "outputs": [],
   "source": [
    "import pandas as pd\n",
    "\n",
    "\n",
    "def clean_data(df):\n",
    "    # drop unused columns\n",
    "    df = df.drop(['Name', 'Ticket', 'Cabin'], axis=1)\n",
    "\n",
    "    # normalizes fare by passenger class: null values receive zero\n",
    "    df['Fare'] = df.groupby('Pclass')['Fare'].apply(lambda x: x.sub(x.median()))\n",
    "    df['Fare'] = df['Fare'].fillna(0)\n",
    "    \n",
    "    # fill null fares with median fare (based on passenger class)\n",
    "    # df['Fare'] = df.groupby('Pclass')['Fare'].apply(lambda x: x.fillna(x.median()))\n",
    "\n",
    "    # fill null ages with median age (based on sex, passenger class)\n",
    "    df['Age'] = df.groupby(['Sex', 'Pclass'])['Age'].apply(lambda x: x.fillna(x.median()))\n",
    "    \n",
    "    # create family size feature\n",
    "    df['FamSize'] = df['SibSp'] + df['Parch']\n",
    "    df.drop(['SibSp', 'Parch'], axis=1, inplace=True)\n",
    "\n",
    "    # return cleaned data\n",
    "    return df\n",
    "\n",
    "train = pd.read_csv('train.csv', header=0, index_col='PassengerId')\n",
    "test = pd.read_csv('test.csv', header=0, index_col='PassengerId')\n",
    "\n",
    "train = clean_data(train)\n",
    "test = clean_data(test)\n",
    "\n",
    "# save transformed data\n",
    "train.to_csv('cl_train.csv')\n",
    "test.to_csv('cl_test.csv')"
   ]
  },
  {
   "cell_type": "markdown",
   "metadata": {},
   "source": [
    "### Logistic Regression Model\n"
   ]
  },
  {
   "cell_type": "code",
   "execution_count": 253,
   "metadata": {},
   "outputs": [
    {
     "name": "stdout",
     "output_type": "stream",
     "text": [
      "Logistic Regression Train Score: 0.833832335329\n",
      "Logistic Regression CV Score: 0.820627802691\n"
     ]
    }
   ],
   "source": [
    "from sklearn.model_selection import train_test_split\n",
    "from sklearn.preprocessing import StandardScaler\n",
    "from sklearn.pipeline import Pipeline\n",
    "from sklearn.preprocessing import PolynomialFeatures\n",
    "from sklearn.linear_model import LogisticRegression\n",
    "import pandas as pd\n",
    "\n",
    "train = pd.read_csv('cl_train.csv', header=0, index_col='PassengerId')\n",
    "\n",
    "# create dummy variables\n",
    "train = pd.get_dummies(train, columns=['Sex', 'Pclass', 'Embarked'])\n",
    "\n",
    "# create cross validation set\n",
    "X = train.drop('Survived', axis=1)\n",
    "y = train['Survived']\n",
    "X_train, X_test, y_train, y_test = train_test_split(X, y, random_state=53)\n",
    "\n",
    "# feature scaling\n",
    "scaler = StandardScaler()\n",
    "X_train = scaler.fit_transform(X_train)\n",
    "X_test = scaler.transform(X_test)\n",
    "\n",
    "# logistic regression\n",
    "polynomial_features = PolynomialFeatures(degree=3, include_bias=True)\n",
    "logistic_regression = LogisticRegression(C=0.005)\n",
    "pipeline = Pipeline([('polynomial_features', polynomial_features),\n",
    "                     ('logistic_regression', logistic_regression)])\n",
    "\n",
    "# prediction score\n",
    "pipeline.fit(X_train, y_train)\n",
    "print('Logistic Regression Train Score: %s' % pipeline.score(X_train, y_train))\n",
    "print('Logistic Regression CV Score: %s' % pipeline.score(X_test, y_test))"
   ]
  },
  {
   "cell_type": "markdown",
   "metadata": {},
   "source": [
    "### Random Forest Model"
   ]
  },
  {
   "cell_type": "code",
   "execution_count": 250,
   "metadata": {},
   "outputs": [
    {
     "name": "stdout",
     "output_type": "stream",
     "text": [
      "Random Forest Train Score: 0.877245508982\n",
      "Random Forest CV Score: 0.807174887892\n",
      "Feature Importance:\n",
      "Pclass      0.143918\n",
      "Sex         0.422326\n",
      "Age         0.162596\n",
      "Fare        0.152493\n",
      "Embarked    0.033380\n",
      "FamSize     0.085286\n",
      "dtype: float64\n"
     ]
    }
   ],
   "source": [
    "from sklearn.model_selection import train_test_split\n",
    "from sklearn.preprocessing import LabelEncoder\n",
    "from sklearn.ensemble import RandomForestClassifier\n",
    "import pandas as pd\n",
    "\n",
    "train = pd.read_csv('cl_train.csv', header=0, index_col='PassengerId')\n",
    "\n",
    "# impute missing 'Embarked' values with 'S' (most common)\n",
    "train['Embarked'].fillna(value='S', inplace=True)\n",
    "\n",
    "# encode categorical variables\n",
    "le = LabelEncoder()\n",
    "train['Sex'] = le.fit_transform(train['Sex'])\n",
    "train['Embarked'] = le.fit_transform(train['Embarked'])\n",
    "\n",
    "# create cross validation set\n",
    "X = train.drop('Survived', axis=1)\n",
    "y = train['Survived']\n",
    "X_train, X_test, y_train, y_test = train_test_split(X, y, random_state=134)\n",
    "\n",
    "# random forest\n",
    "clf = RandomForestClassifier(n_estimators=300, max_depth=6)\n",
    "\n",
    "# prediction score\n",
    "clf.fit(X_train, y_train)\n",
    "print('Random Forest Train Score: %s' % clf.score(X_train, y_train))\n",
    "print('Random Forest CV Score: %s' % clf.score(X_test, y_test))\n",
    "print('Feature Importance:\\n%s' % pd.Series(clf.feature_importances_,\n",
    "                                            index=X_train.columns))"
   ]
  },
  {
   "cell_type": "markdown",
   "metadata": {},
   "source": [
    "### Support Vector Machine"
   ]
  },
  {
   "cell_type": "code",
   "execution_count": 26,
   "metadata": {},
   "outputs": [
    {
     "name": "stdout",
     "output_type": "stream",
     "text": [
      "SVC Train Score: 0.835329341317\n",
      "SVC CV Score: 0.816143497758\n"
     ]
    }
   ],
   "source": [
    "from sklearn.model_selection import train_test_split\n",
    "from sklearn.preprocessing import StandardScaler\n",
    "from sklearn.svm import SVC\n",
    "import pandas as pd\n",
    "\n",
    "train = pd.read_csv('cl_train.csv', header=0, index_col='PassengerId')\n",
    "\n",
    "# create dummy variables\n",
    "train = pd.get_dummies(train, columns=['Sex', 'Pclass', 'Embarked'])\n",
    "\n",
    "# create cross validation set\n",
    "X = train.drop('Survived', axis=1)\n",
    "y = train['Survived']\n",
    "X_train, X_test, y_train, y_test = train_test_split(X, y, random_state=116)\n",
    "\n",
    "# feature scaling\n",
    "scaler = StandardScaler()\n",
    "X_train = scaler.fit_transform(X_train)\n",
    "X_test = scaler.transform(X_test)\n",
    "\n",
    "# support vector machine\n",
    "clf = SVC(C=5, gamma='auto')\n",
    "\n",
    "# prediction score\n",
    "clf.fit(X_train, y_train)\n",
    "print('SVC Train Score: %s' % clf.score(X_train, y_train))\n",
    "print('SVC CV Score: %s' % clf.score(X_test, y_test))"
   ]
  },
  {
   "cell_type": "markdown",
   "metadata": {},
   "source": [
    "### Final Logistic Regression Model\n",
    "\n",
    "* Import the cleaned Titanic data from `cl_train.csv` and `cl_test.csv`.\n",
    "* Normalize features by mean and standard deviation.\n",
    "* Create polynomial features.\n",
    "* Save predicted data.\n",
    "\n",
    "#### Submission Notes and History\n",
    "Format: `degree` / `C`\n",
    "* 6/25: R1 features; polynomial degree of 3, regularization constant 0.005 attained a leaderboard score of 0.77512."
   ]
  },
  {
   "cell_type": "code",
   "execution_count": 254,
   "metadata": {
    "collapsed": true
   },
   "outputs": [],
   "source": [
    "from sklearn.preprocessing import StandardScaler\n",
    "from sklearn.pipeline import Pipeline\n",
    "from sklearn.preprocessing import PolynomialFeatures\n",
    "from sklearn.linear_model import LogisticRegression\n",
    "import pandas as pd\n",
    "import numpy as np\n",
    "\n",
    "train = pd.read_csv('cl_train.csv', header=0, index_col='PassengerId')\n",
    "test = pd.read_csv('cl_test.csv', header=0, index_col='PassengerId')\n",
    "\n",
    "# create training set X and y\n",
    "X_train = train.drop('Survived', axis=1)\n",
    "y_train = train['Survived']\n",
    "\n",
    "# combine X train and test for preprocessing\n",
    "tr_len = len(X_train)\n",
    "df = pd.concat(objs=[X_train, test], axis=0)\n",
    "\n",
    "# create dummy variables on train/test\n",
    "df = pd.get_dummies(df, columns=['Sex', 'Pclass', 'Embarked'])\n",
    "\n",
    "# split X train and test\n",
    "X_train = df[:tr_len]\n",
    "test = df[tr_len:]\n",
    "\n",
    "# feature scaling\n",
    "scaler = StandardScaler()\n",
    "X_train = scaler.fit_transform(X_train)\n",
    "X_test = scaler.transform(test)\n",
    "\n",
    "# L2 logistic polynomial regression with C = 1\n",
    "polynomial_features = PolynomialFeatures(degree=3, include_bias=True)\n",
    "logistic_regression = LogisticRegression(C=0.005)\n",
    "pipeline = Pipeline([('polynomial_features', polynomial_features),\n",
    "                     ('logistic_regression', logistic_regression)])\n",
    "\n",
    "# fit and predict\n",
    "pipeline.fit(X_train, y_train)\n",
    "prediction = pipeline.predict(X_test)\n",
    "\n",
    "# save survival predictions to a CSV file\n",
    "predicted = np.column_stack((test.index.values, prediction))\n",
    "np.savetxt(\"pr_logistic.csv\", predicted.astype(int), fmt='%d', delimiter=\",\",\n",
    "           header=\"PassengerId,Survived\", comments='')"
   ]
  },
  {
   "cell_type": "markdown",
   "metadata": {},
   "source": [
    "### Final Random Forest Model\n",
    "\n",
    "* Import the cleaned Titanic data from `cl_train.csv` and `cl_test.csv`.\n",
    "* Create encoders for categorical variables.\n",
    "* Save predicted data.\n",
    "\n",
    "#### Submission Notes and History\n",
    "Format: `n_estimators` / `max_depth`\n",
    "* 6/25: R1 features; 300 estimators, max tree depth of 6 attained a leaderboard score of 0.79904."
   ]
  },
  {
   "cell_type": "code",
   "execution_count": 234,
   "metadata": {
    "collapsed": true
   },
   "outputs": [],
   "source": [
    "from sklearn.preprocessing import LabelEncoder\n",
    "from sklearn.ensemble import RandomForestClassifier\n",
    "import pandas as pd\n",
    "import numpy as np\n",
    "\n",
    "train = pd.read_csv('cl_train.csv', header=0, index_col='PassengerId')\n",
    "test = pd.read_csv('cl_test.csv', header=0, index_col='PassengerId')\n",
    "\n",
    "# create training set X and y\n",
    "X_train = train.drop('Survived', axis=1)\n",
    "y_train = train['Survived']\n",
    "\n",
    "# combine X train and test for preprocessing\n",
    "tr_len = len(X_train)\n",
    "df = pd.concat(objs=[X_train, test], axis=0)\n",
    "\n",
    "# impute missing 'Embarked' values with 'S' (most common)\n",
    "df['Embarked'].fillna(value='S', inplace=True)\n",
    "\n",
    "# encode categorical variables\n",
    "le = LabelEncoder()\n",
    "df['Sex'] = le.fit_transform(df['Sex'])\n",
    "df['Embarked'] = le.fit_transform(df['Embarked'])\n",
    "\n",
    "# split X train and test\n",
    "X_train = df[:tr_len]\n",
    "test = df[tr_len:]\n",
    "\n",
    "# random forest with 200 estimators, max depth 10\n",
    "clf = RandomForestClassifier(n_estimators=300, max_depth=6)\n",
    "\n",
    "# fit and predict\n",
    "clf.fit(X_train, y_train)\n",
    "prediction = clf.predict(test)\n",
    "\n",
    "# save survival predictions to a CSV file\n",
    "predicted = np.column_stack((test.index.values, prediction))\n",
    "np.savetxt(\"pr_forest.csv\", predicted.astype(int), fmt='%d', delimiter=\",\",\n",
    "           header=\"PassengerId,Survived\", comments='')"
   ]
  },
  {
   "cell_type": "markdown",
   "metadata": {},
   "source": [
    "### Final Support Vector Machine\n",
    "\n",
    "* Import the cleaned Titanic data from `cl_train.csv` and `cl_test.csv`.\n",
    "* Normalize features by mean and standard deviation.\n",
    "* Create polynomial features.\n",
    "* Save predicted data.\n",
    "\n",
    "#### Submission Notes and History\n",
    "Format: `gamma` / `C`\n",
    "* 6/25: R1 features; automatic gamma, regularization constant 5 attained a leaderboard score of 0.77033."
   ]
  },
  {
   "cell_type": "code",
   "execution_count": 29,
   "metadata": {
    "collapsed": true
   },
   "outputs": [],
   "source": [
    "from sklearn.preprocessing import StandardScaler\n",
    "from sklearn.svm import SVC\n",
    "import pandas as pd\n",
    "import numpy as np\n",
    "\n",
    "train = pd.read_csv('cl_train.csv', header=0, index_col='PassengerId')\n",
    "test = pd.read_csv('cl_test.csv', header=0, index_col='PassengerId')\n",
    "\n",
    "# create training set X and y\n",
    "X_train = train.drop('Survived', axis=1)\n",
    "y_train = train['Survived']\n",
    "\n",
    "# combine X train and test for preprocessing\n",
    "tr_len = len(X_train)\n",
    "df = pd.concat(objs=[X_train, test], axis=0)\n",
    "\n",
    "# create dummy variables on train/test\n",
    "df = pd.get_dummies(df, columns=['Sex', 'Pclass', 'Embarked'])\n",
    "\n",
    "# split X train and test\n",
    "X_train = df[:tr_len]\n",
    "test = df[tr_len:]\n",
    "\n",
    "# feature scaling\n",
    "scaler = StandardScaler()\n",
    "X_train = scaler.fit_transform(X_train)\n",
    "X_test = scaler.transform(test)\n",
    "\n",
    "# support vector machine\n",
    "clf = SVC(C=3, gamma='auto')\n",
    "\n",
    "# fit and predict\n",
    "clf.fit(X_train, y_train)\n",
    "prediction = clf.predict(X_test)\n",
    "\n",
    "# save survival predictions to a CSV file\n",
    "predicted = np.column_stack((test.index.values, prediction))\n",
    "np.savetxt(\"pr_SVM.csv\", predicted.astype(int), fmt='%d', delimiter=\",\",\n",
    "           header=\"PassengerId,Survived\", comments='')"
   ]
  }
 ],
 "metadata": {
  "kernelspec": {
   "display_name": "Python 3",
   "language": "python",
   "name": "python3"
  },
  "language_info": {
   "codemirror_mode": {
    "name": "ipython",
    "version": 3
   },
   "file_extension": ".py",
   "mimetype": "text/x-python",
   "name": "python",
   "nbconvert_exporter": "python",
   "pygments_lexer": "ipython3",
   "version": "3.6.1"
  }
 },
 "nbformat": 4,
 "nbformat_minor": 2
}
