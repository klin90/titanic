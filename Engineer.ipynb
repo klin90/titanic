{
 "cells": [
  {
   "cell_type": "markdown",
   "metadata": {},
   "source": [
    "# Titanic Feature Engineering\n",
    "\n",
    "## Table of Contents\n",
    "* Overview\n",
    "* Feature Engineering\n",
    "    * Title\n",
    "    * Family Size\n",
    "    * Fares\n",
    "    * Ages\n",
    "* Imputation\n",
    "    * Ages\n",
    "    * Fares\n",
    "    * Embarkment"
   ]
  },
  {
   "cell_type": "code",
   "execution_count": 45,
   "metadata": {},
   "outputs": [],
   "source": [
    "import matplotlib.pyplot as plt\n",
    "import scipy.stats as st\n",
    "import seaborn as sns\n",
    "import pandas as pd\n",
    "import numpy as np\n",
    "\n",
    "%matplotlib notebook\n",
    "\n",
    "train = pd.read_csv('train.csv', index_col='PassengerId')\n",
    "test = pd.read_csv('test.csv', index_col='PassengerId')\n",
    "\n",
    "tr_len = len(train)\n",
    "df = train.drop('Survived', axis=1).append(test)"
   ]
  },
  {
   "cell_type": "markdown",
   "metadata": {},
   "source": [
    "### Title\n",
    "We'll extract title information from the `Name` feature, and then merge some of the titles together.\n",
    "\n",
    "* Merge 'Mme' into 'Mrs'\n",
    "* Merge 'Mlle' and 'Ms' into 'Miss'\n",
    "* Merge 'Lady', 'the Countess', and 'Dona' into 'fNoble'\n",
    "* Merge 'Don', 'Sir', and 'Jonkheer' into 'mNoble'\n",
    "* Merge 'Col', 'Capt', and 'Major' into 'mil'"
   ]
  },
  {
   "cell_type": "code",
   "execution_count": 46,
   "metadata": {},
   "outputs": [],
   "source": [
    "df['Title'] = df['Name'].str.extract('\\,\\s(.*?)[.]', expand=False)\n",
    "df['Title'].replace('Mme', 'Mrs', inplace=True)\n",
    "df['Title'].replace('Mlle', 'Miss', inplace=True)\n",
    "df['Title'].replace('Ms', 'Miss', inplace=True)\n",
    "df['Title'].replace('Lady', 'fNoble', inplace=True)\n",
    "df['Title'].replace('the Countess', 'fNoble', inplace=True)\n",
    "df['Title'].replace('Dona', 'fNoble', inplace=True)\n",
    "df['Title'].replace('Don', 'mNoble', inplace=True)\n",
    "df['Title'].replace('Sir', 'mNoble', inplace=True)\n",
    "df['Title'].replace('Jonkheer', 'mNoble', inplace=True)\n",
    "df['Title'].replace('Col', 'mil', inplace=True)\n",
    "df['Title'].replace('Capt', 'mil', inplace=True)\n",
    "df['Title'].replace('Major', 'mil', inplace=True)"
   ]
  },
  {
   "cell_type": "markdown",
   "metadata": {},
   "source": [
    "### Family Size\n",
    "We'll create a `FamSize` feature indicating family size. We'll impute the median fare for lone travelers, for the lone missing value."
   ]
  },
  {
   "cell_type": "code",
   "execution_count": 47,
   "metadata": {
    "collapsed": true
   },
   "outputs": [],
   "source": [
    "df['FamSize'] = df['SibSp'] + df['Parch'] + 1"
   ]
  },
  {
   "cell_type": "markdown",
   "metadata": {},
   "source": [
    "### Fares\n",
    "We'll create a `TicketSize` feature, and divide `Fare` by it to adjust our `Fare` values. We then impute the lone missing value with its median by `Pclass`."
   ]
  },
  {
   "cell_type": "code",
   "execution_count": 48,
   "metadata": {
    "collapsed": true
   },
   "outputs": [],
   "source": [
    "df['TicketSize'] = df['Ticket'].value_counts()[df['Ticket']].values\n",
    "df['AdjFare'] = df['Fare'].div(df['TicketSize'])\n",
    "df['AdjFare'] = df.groupby('Pclass')['AdjFare'].apply(lambda x: x.fillna(x.median()))"
   ]
  },
  {
   "cell_type": "markdown",
   "metadata": {},
   "source": [
    "### Ages\n",
    "\n",
    "We'll impute missing values with medians by `Title` and `Sex`."
   ]
  },
  {
   "cell_type": "code",
   "execution_count": 49,
   "metadata": {},
   "outputs": [],
   "source": [
    "df['FilledAge'] = df.groupby(['Sex', 'Title'])['Age'].apply(lambda x: x.fillna(x.median()))"
   ]
  },
  {
   "cell_type": "markdown",
   "metadata": {},
   "source": [
    "### Embarked\n",
    "From our strategy using ticket numbers, we will fill both missing values with 'S' - Southampton."
   ]
  },
  {
   "cell_type": "code",
   "execution_count": 50,
   "metadata": {
    "collapsed": true
   },
   "outputs": [],
   "source": [
    "df['Embarked'].fillna('S', inplace=True)"
   ]
  },
  {
   "cell_type": "markdown",
   "metadata": {},
   "source": [
    "### Cabins\n",
    "We create an indicator variable if the cabin is known, for now."
   ]
  },
  {
   "cell_type": "code",
   "execution_count": 52,
   "metadata": {},
   "outputs": [],
   "source": [
    "df['CabinKnown'] = df['Cabin'].notnull().astype(int)"
   ]
  },
  {
   "cell_type": "markdown",
   "metadata": {},
   "source": [
    "### Modeling\n",
    "Let's recombine, drop the unnecessary variables, and try a Random Forest model to gauge feature importance."
   ]
  },
  {
   "cell_type": "code",
   "execution_count": 77,
   "metadata": {},
   "outputs": [
    {
     "name": "stdout",
     "output_type": "stream",
     "text": [
      "CV Score: 0.8340807174887892\n"
     ]
    },
    {
     "data": {
      "text/plain": [
       "Pclass        0.071959\n",
       "Sex           0.364403\n",
       "Title         0.099324\n",
       "FamSize       0.078954\n",
       "TicketSize    0.067330\n",
       "AdjFare       0.178269\n",
       "FilledAge     0.139761\n",
       "dtype: float64"
      ]
     },
     "execution_count": 77,
     "metadata": {},
     "output_type": "execute_result"
    }
   ],
   "source": [
    "from sklearn.ensemble import RandomForestClassifier\n",
    "from sklearn.model_selection import train_test_split\n",
    "from sklearn.preprocessing import LabelEncoder\n",
    "\n",
    "pdf = df.copy()\n",
    "le = LabelEncoder()\n",
    "pdf['Sex'] = le.fit_transform(pdf['Sex'])\n",
    "pdf['Embarked'] = le.fit_transform(pdf['Embarked'])\n",
    "pdf['Title'] = le.fit_transform(pdf['Title'])\n",
    "\n",
    "pdf.drop(['CabinKnown', 'Embarked'], axis=1, inplace=True)\n",
    "\n",
    "p_test = pdf[tr_len:]\n",
    "p_train = pdf[:tr_len].join(train[['Survived']]).drop(['Name', 'Age', 'SibSp', 'Parch', 'Ticket', 'Fare', 'Cabin'], axis=1)\n",
    "\n",
    "X_train, X_test, y_train, y_test = train_test_split(p_train.drop('Survived', axis=1), p_train['Survived'], random_state=236)\n",
    "\n",
    "clf = RandomForestClassifier(n_estimators=1000, max_depth=7, max_features=4)\n",
    "clf.fit(X_train, y_train)\n",
    "print('CV Score: {}'.format(clf.score(X_test, y_test)))\n",
    "pd.Series(clf.feature_importances_, index=X_train.columns)"
   ]
  },
  {
   "cell_type": "code",
   "execution_count": 78,
   "metadata": {},
   "outputs": [
    {
     "name": "stdout",
     "output_type": "stream",
     "text": [
      "<class 'pandas.core.frame.DataFrame'>\n",
      "Int64Index: 1309 entries, 1 to 1309\n",
      "Data columns (total 16 columns):\n",
      "Pclass        1309 non-null int64\n",
      "Name          1309 non-null object\n",
      "Sex           1309 non-null object\n",
      "Age           1046 non-null float64\n",
      "SibSp         1309 non-null int64\n",
      "Parch         1309 non-null int64\n",
      "Ticket        1309 non-null object\n",
      "Fare          1308 non-null float64\n",
      "Cabin         295 non-null object\n",
      "Embarked      1309 non-null object\n",
      "Title         1309 non-null object\n",
      "FamSize       1309 non-null int64\n",
      "TicketSize    1309 non-null int64\n",
      "AdjFare       1309 non-null float64\n",
      "FilledAge     1309 non-null float64\n",
      "CabinKnown    1309 non-null int32\n",
      "dtypes: float64(4), int32(1), int64(5), object(6)\n",
      "memory usage: 208.7+ KB\n"
     ]
    }
   ],
   "source": [
    "df.info()"
   ]
  }
 ],
 "metadata": {
  "kernelspec": {
   "display_name": "Python 3",
   "language": "python",
   "name": "python3"
  },
  "language_info": {
   "codemirror_mode": {
    "name": "ipython",
    "version": 3
   },
   "file_extension": ".py",
   "mimetype": "text/x-python",
   "name": "python",
   "nbconvert_exporter": "python",
   "pygments_lexer": "ipython3",
   "version": "3.6.1"
  }
 },
 "nbformat": 4,
 "nbformat_minor": 2
}
